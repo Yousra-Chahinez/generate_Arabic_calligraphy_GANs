{
 "cells": [
  {
   "cell_type": "markdown",
   "metadata": {
    "id": "RtDCIPNc2f9p"
   },
   "source": [
    "# Cycle GAN"
   ]
  },
  {
   "cell_type": "markdown",
   "metadata": {
    "id": "IZc5qMco2275"
   },
   "source": [
    "## Required libraries"
   ]
  },
  {
   "cell_type": "code",
   "execution_count": 3,
   "metadata": {
    "colab": {
     "base_uri": "https://localhost:8080/"
    },
    "id": "KWn9Rk8u26RP",
    "outputId": "e005c578-0006-47a2-aae0-e4235bf5fa0d"
   },
   "outputs": [
    {
     "data": {
      "text/plain": [
       "<torch._C.Generator at 0x7fba69c41a50>"
      ]
     },
     "execution_count": 3,
     "metadata": {},
     "output_type": "execute_result"
    }
   ],
   "source": [
    "# Standard Library Imports\n",
    "import os\n",
    "import time\n",
    "\n",
    "import numpy as np\n",
    "import cv2 as cv\n",
    "import matplotlib.pyplot as plt\n",
    "from PIL import Image\n",
    "from tqdm import tqdm\n",
    "\n",
    "# PyTorch Imports\n",
    "import torch\n",
    "import torch.nn as nn\n",
    "import torch.optim as optim\n",
    "from torch.utils.data import Dataset, DataLoader\n",
    "from torchsummary import summary\n",
    "\n",
    "# torchvision Imports\n",
    "from torchvision import transforms\n",
    "from torchvision.transforms.functional import to_pil_image\n",
    "from torchvision.utils import save_image\n",
    "\n",
    "# Jupyter Notebook Setting\n",
    "%matplotlib inline\n",
    "\n",
    "# Set Random Seed for Reproducibility\n",
    "torch.manual_seed(0)"
   ]
  },
  {
   "cell_type": "code",
   "execution_count": 4,
   "metadata": {
    "id": "i9VV174m3VSz"
   },
   "outputs": [],
   "source": [
    "device = \"cuda:0\" if torch.cuda.is_available() else \"cpu\""
   ]
  },
  {
   "cell_type": "markdown",
   "metadata": {},
   "source": [
    "**NOTE** <br>\n",
    "The code for CycleGAN is implemented according to the main paper:<br>\n",
    "Unpaired Image-to-Image Translation using Cycle-Consistent Adversarial Networks, [Link to Paper](https://arxiv.org/abs/1703.10593).<br>\n",
    "This implementation was created with additional help from the YouTube channel: [\\[Aladdin Persson, URL\\].](https://www.youtube.com/watch?v=4LktBHGCNfw)"
   ]
  },
  {
   "cell_type": "markdown",
   "metadata": {
    "id": "iefiZBKx2kNo"
   },
   "source": [
    "## Dataset"
   ]
  },
  {
   "cell_type": "code",
   "execution_count": 5,
   "metadata": {
    "id": "kNSiry672qJa"
   },
   "outputs": [],
   "source": [
    "transform = transforms.Compose([\n",
    "                    transforms.ToTensor(),\n",
    "                    transforms.Normalize([0.5,0.5,0.5],[0.5,0.5,0.5]),\n",
    "                    transforms.Resize((256,256))\n",
    "])"
   ]
  },
  {
   "cell_type": "markdown",
   "metadata": {
    "id": "h-W7UF05pPEX"
   },
   "source": [
    "### Training data"
   ]
  },
  {
   "cell_type": "code",
   "execution_count": 6,
   "metadata": {
    "id": "eAS2ZoLR21sJ"
   },
   "outputs": [],
   "source": [
    "class CalligraphyDataset(Dataset):\n",
    "    def __init__(self, input_dir, real_dir, transform=False):\n",
    "        self.input_dir = input_dir\n",
    "        self.real_dir = real_dir\n",
    "        self.list_inputs = os.listdir(self.input_dir)\n",
    "        self.list_reals = os.listdir(self.real_dir)\n",
    "        self.transform = transform \n",
    "        \n",
    "    def __len__(self):\n",
    "        return len(self.list_inputs) \n",
    "    \n",
    "    def __getitem__(self, index):\n",
    "        real_img_file = self.list_reals[index]\n",
    "        input_img_file = self.list_inputs[index]\n",
    "        real_image_path = os.path.join(self.real_dir, real_img_file)\n",
    "        input_image_path = os.path.join(self.input_dir, input_img_file)\n",
    "\n",
    "        input_image = Image.open(input_image_path)\n",
    "        real_image = Image.open(real_image_path)\n",
    "\n",
    "        if self.transform:\n",
    "          input_image = self.transform(input_image)\n",
    "          real_image = self.transform(real_image)\n",
    "        \n",
    "        return input_image, real_image"
   ]
  },
  {
   "cell_type": "code",
   "execution_count": 10,
   "metadata": {
    "id": "3w_gyR_H3l4-"
   },
   "outputs": [],
   "source": [
    "# File paths for training data\n",
    "real_image_path = \"data/FarsiDataset/train/Calligraphy\"\n",
    "input_image_path = \"data/FarsiDataset/train/std_font\"\n",
    "\n",
    "# Creating training dataset\n",
    "train_dataset = CalligraphyDataset(input_image_path, real_image_path, transform=transform)"
   ]
  },
  {
   "cell_type": "code",
   "execution_count": 11,
   "metadata": {
    "colab": {
     "base_uri": "https://localhost:8080/",
     "height": 323
    },
    "id": "c2qliM9m3opb",
    "outputId": "37eab404-1f37-4e58-8687-7c6ed922069f"
   },
   "outputs": [
    {
     "data": {
      "text/plain": [
       "<matplotlib.image.AxesImage at 0x7fba685df0d0>"
      ]
     },
     "execution_count": 11,
     "metadata": {},
     "output_type": "execute_result"
    },
    {
     "data": {
      "image/png": "[encoded data removed]",
      "text/plain": [
       "<Figure size 720x720 with 2 Axes>"
      ]
     },
     "metadata": {
      "needs_background": "light"
     },
     "output_type": "display_data"
    }
   ],
   "source": [
    "input_image, real_image = dataset[0]\n",
    "plt.figure(figsize=(10,10))\n",
    "plt.subplot(1,2,1)\n",
    "plt.imshow(to_pil_image(0.5*input_image+0.5))\n",
    "#plt.axis('off')\n",
    "plt.subplot(1,2,2)\n",
    "plt.imshow(to_pil_image(0.5*real_image+0.5))\n",
    "#plt.axis('off')"
   ]
  },
  {
   "cell_type": "code",
   "execution_count": 12,
   "metadata": {
    "id": "r2fUyqcN4Wdn"
   },
   "outputs": [],
   "source": [
    "# batch_size = 1\n",
    "# train_loader = DataLoader(dataset, batch_size=batch_size, shuffle=True)"
   ]
  },
  {
   "cell_type": "markdown",
   "metadata": {
    "id": "LsFwyJXejD8o"
   },
   "source": [
    "### Testing data"
   ]
  },
  {
   "cell_type": "code",
   "execution_count": 14,
   "metadata": {
    "id": "dl0splkq4ZMe"
   },
   "outputs": [],
   "source": [
    "# File paths for testing data\n",
    "real_image_path_val = \"data/FarsiDataset/test/Calligraphy\"\n",
    "input_image_path_val = \"data/FarsiDataset/test/std_font\"\n",
    "\n",
    "# Creating testing dataset\n",
    "test_dataset = CalligraphyDataset(input_image_path_val, real_image_path_val, transform=transform)"
   ]
  },
  {
   "cell_type": "code",
   "execution_count": 15,
   "metadata": {
    "colab": {
     "base_uri": "https://localhost:8080/",
     "height": 323
    },
    "id": "loWIamj04ZP4",
    "outputId": "53ce55e8-2e19-4fc2-bb50-0224f7e18b69"
   },
   "outputs": [
    {
     "data": {
      "text/plain": [
       "<matplotlib.image.AxesImage at 0x7fba6d4a9f10>"
      ]
     },
     "execution_count": 15,
     "metadata": {},
     "output_type": "execute_result"
    },
    {
     "data": {
      "image/png": "[encoded data removed]",
      "text/plain": [
       "<Figure size 720x720 with 2 Axes>"
      ]
     },
     "metadata": {
      "needs_background": "light"
     },
     "output_type": "display_data"
    }
   ],
   "source": [
    "input_image_val, real_image_val = test_dataset[0]\n",
    "plt.figure(figsize=(10,10))\n",
    "plt.subplot(1,2,1)\n",
    "plt.imshow(to_pil_image(0.5*input_image_val+0.5))\n",
    "#plt.axis('off')\n",
    "plt.subplot(1,2,2)\n",
    "plt.imshow(to_pil_image(0.5*real_image_val+0.5))\n",
    "#plt.axis('off')"
   ]
  },
  {
   "cell_type": "code",
   "execution_count": 16,
   "metadata": {
    "id": "4xnqvVHT4ZSp"
   },
   "outputs": [],
   "source": [
    "batch_size = 1\n",
    "test_loader = DataLoader(test_dataset, batch_size=batch_size, shuffle=False)"
   ]
  },
  {
   "cell_type": "markdown",
   "metadata": {
    "id": "mqgpKCgBuWEw"
   },
   "source": [
    "## Generator"
   ]
  },
  {
   "cell_type": "code",
   "execution_count": 17,
   "metadata": {
    "id": "udnu4f0mxMq2"
   },
   "outputs": [],
   "source": [
    "class ResidualBlock(nn.Module):\n",
    "    def __init__(self, in_channels):\n",
    "        super(ResidualBlock, self).__init__()\n",
    "\n",
    "        self.res = nn.Sequential(nn.ReflectionPad2d(1),\n",
    "                                 nn.Conv2d(in_channels, in_channels, 3),\n",
    "                                 nn.InstanceNorm2d(in_channels),\n",
    "                                 nn.ReLU(inplace=True),\n",
    "                                 nn.ReflectionPad2d(1),\n",
    "                                 nn.Conv2d(in_channels, in_channels, 3),\n",
    "                                 nn.InstanceNorm2d(in_channels))\n",
    "\n",
    "    def forward(self, x):\n",
    "        return x + self.res(x)"
   ]
  },
  {
   "cell_type": "markdown",
   "metadata": {
    "id": "A9XdRRFndSTR"
   },
   "source": [
    "### Resnet-based Generator"
   ]
  },
  {
   "cell_type": "code",
   "execution_count": 18,
   "metadata": {
    "id": "Mv0W6tfGxK-0"
   },
   "outputs": [],
   "source": [
    "class Generator(nn.Module):\n",
    "    def __init__(self):\n",
    "        super(Generator, self).__init__()\n",
    "        self.main = nn.Sequential(\n",
    "            # Initial convolution block\n",
    "            nn.ReflectionPad2d(3),\n",
    "            nn.Conv2d(3, 64, 7),\n",
    "            nn.InstanceNorm2d(64),\n",
    "            nn.ReLU(inplace=True),\n",
    "\n",
    "            # Downsampling\n",
    "            nn.Conv2d(64, 128, 3, stride=2, padding=1),\n",
    "            nn.InstanceNorm2d(128),\n",
    "            nn.ReLU(inplace=True),\n",
    "            nn.Conv2d(128, 256, 3, stride=2, padding=1),\n",
    "            nn.InstanceNorm2d(256),\n",
    "            nn.ReLU(inplace=True),\n",
    "\n",
    "            # Residual blocks\n",
    "            ResidualBlock(256),\n",
    "            ResidualBlock(256),\n",
    "            ResidualBlock(256),\n",
    "            ResidualBlock(256),\n",
    "            ResidualBlock(256),\n",
    "            ResidualBlock(256),\n",
    "            ResidualBlock(256),\n",
    "            ResidualBlock(256),\n",
    "            ResidualBlock(256),\n",
    "\n",
    "            # Upsampling\n",
    "            nn.ConvTranspose2d(256, 128, 3, stride=2, padding=1, output_padding=1),\n",
    "            nn.InstanceNorm2d(128),\n",
    "            nn.ReLU(inplace=True),\n",
    "            nn.ConvTranspose2d(128, 64, 3, stride=2, padding=1, output_padding=1),\n",
    "            nn.InstanceNorm2d(64),\n",
    "            nn.ReLU(inplace=True),\n",
    "\n",
    "            # Output layer\n",
    "            nn.ReflectionPad2d(3),\n",
    "            nn.Conv2d(64, 3, 7),\n",
    "            nn.Tanh()\n",
    "        )\n",
    "\n",
    "    def forward(self, x):\n",
    "        return self.main(x)"
   ]
  },
  {
   "cell_type": "code",
   "execution_count": 19,
   "metadata": {
    "colab": {
     "base_uri": "https://localhost:8080/"
    },
    "id": "xmWw9s8exTzX",
    "outputId": "981d19ec-03d0-4fdb-b11d-759a13e1a2b7"
   },
   "outputs": [
    {
     "name": "stdout",
     "output_type": "stream",
     "text": [
      "torch.Size([2, 3, 256, 256])\n",
      "----------------------------------------------------------------\n",
      "        Layer (type)               Output Shape         Param #\n",
      "================================================================\n",
      "   ReflectionPad2d-1          [-1, 3, 262, 262]               0\n",
      "            Conv2d-2         [-1, 64, 256, 256]           9,472\n",
      "    InstanceNorm2d-3         [-1, 64, 256, 256]               0\n",
      "              ReLU-4         [-1, 64, 256, 256]               0\n",
      "            Conv2d-5        [-1, 128, 128, 128]          73,856\n",
      "    InstanceNorm2d-6        [-1, 128, 128, 128]               0\n",
      "              ReLU-7        [-1, 128, 128, 128]               0\n",
      "            Conv2d-8          [-1, 256, 64, 64]         295,168\n",
      "    InstanceNorm2d-9          [-1, 256, 64, 64]               0\n",
      "             ReLU-10          [-1, 256, 64, 64]               0\n",
      "  ReflectionPad2d-11          [-1, 256, 66, 66]               0\n",
      "           Conv2d-12          [-1, 256, 64, 64]         590,080\n",
      "   InstanceNorm2d-13          [-1, 256, 64, 64]               0\n",
      "             ReLU-14          [-1, 256, 64, 64]               0\n",
      "  ReflectionPad2d-15          [-1, 256, 66, 66]               0\n",
      "           Conv2d-16          [-1, 256, 64, 64]         590,080\n",
      "   InstanceNorm2d-17          [-1, 256, 64, 64]               0\n",
      "    ResidualBlock-18          [-1, 256, 64, 64]               0\n",
      "  ReflectionPad2d-19          [-1, 256, 66, 66]               0\n",
      "           Conv2d-20          [-1, 256, 64, 64]         590,080\n",
      "   InstanceNorm2d-21          [-1, 256, 64, 64]               0\n",
      "             ReLU-22          [-1, 256, 64, 64]               0\n",
      "  ReflectionPad2d-23          [-1, 256, 66, 66]               0\n",
      "           Conv2d-24          [-1, 256, 64, 64]         590,080\n",
      "   InstanceNorm2d-25          [-1, 256, 64, 64]               0\n",
      "    ResidualBlock-26          [-1, 256, 64, 64]               0\n",
      "  ReflectionPad2d-27          [-1, 256, 66, 66]               0\n",
      "           Conv2d-28          [-1, 256, 64, 64]         590,080\n",
      "   InstanceNorm2d-29          [-1, 256, 64, 64]               0\n",
      "             ReLU-30          [-1, 256, 64, 64]               0\n",
      "  ReflectionPad2d-31          [-1, 256, 66, 66]               0\n",
      "           Conv2d-32          [-1, 256, 64, 64]         590,080\n",
      "   InstanceNorm2d-33          [-1, 256, 64, 64]               0\n",
      "    ResidualBlock-34          [-1, 256, 64, 64]               0\n",
      "  ReflectionPad2d-35          [-1, 256, 66, 66]               0\n",
      "           Conv2d-36          [-1, 256, 64, 64]         590,080\n",
      "   InstanceNorm2d-37          [-1, 256, 64, 64]               0\n",
      "             ReLU-38          [-1, 256, 64, 64]               0\n",
      "  ReflectionPad2d-39          [-1, 256, 66, 66]               0\n",
      "           Conv2d-40          [-1, 256, 64, 64]         590,080\n",
      "   InstanceNorm2d-41          [-1, 256, 64, 64]               0\n",
      "    ResidualBlock-42          [-1, 256, 64, 64]               0\n",
      "  ReflectionPad2d-43          [-1, 256, 66, 66]               0\n",
      "           Conv2d-44          [-1, 256, 64, 64]         590,080\n",
      "   InstanceNorm2d-45          [-1, 256, 64, 64]               0\n",
      "             ReLU-46          [-1, 256, 64, 64]               0\n",
      "  ReflectionPad2d-47          [-1, 256, 66, 66]               0\n",
      "           Conv2d-48          [-1, 256, 64, 64]         590,080\n",
      "   InstanceNorm2d-49          [-1, 256, 64, 64]               0\n",
      "    ResidualBlock-50          [-1, 256, 64, 64]               0\n",
      "  ReflectionPad2d-51          [-1, 256, 66, 66]               0\n",
      "           Conv2d-52          [-1, 256, 64, 64]         590,080\n",
      "   InstanceNorm2d-53          [-1, 256, 64, 64]               0\n",
      "             ReLU-54          [-1, 256, 64, 64]               0\n",
      "  ReflectionPad2d-55          [-1, 256, 66, 66]               0\n",
      "           Conv2d-56          [-1, 256, 64, 64]         590,080\n",
      "   InstanceNorm2d-57          [-1, 256, 64, 64]               0\n",
      "    ResidualBlock-58          [-1, 256, 64, 64]               0\n",
      "  ReflectionPad2d-59          [-1, 256, 66, 66]               0\n",
      "           Conv2d-60          [-1, 256, 64, 64]         590,080\n",
      "   InstanceNorm2d-61          [-1, 256, 64, 64]               0\n",
      "             ReLU-62          [-1, 256, 64, 64]               0\n",
      "  ReflectionPad2d-63          [-1, 256, 66, 66]               0\n",
      "           Conv2d-64          [-1, 256, 64, 64]         590,080\n",
      "   InstanceNorm2d-65          [-1, 256, 64, 64]               0\n",
      "    ResidualBlock-66          [-1, 256, 64, 64]               0\n",
      "  ReflectionPad2d-67          [-1, 256, 66, 66]               0\n",
      "           Conv2d-68          [-1, 256, 64, 64]         590,080\n",
      "   InstanceNorm2d-69          [-1, 256, 64, 64]               0\n",
      "             ReLU-70          [-1, 256, 64, 64]               0\n",
      "  ReflectionPad2d-71          [-1, 256, 66, 66]               0\n",
      "           Conv2d-72          [-1, 256, 64, 64]         590,080\n",
      "   InstanceNorm2d-73          [-1, 256, 64, 64]               0\n",
      "    ResidualBlock-74          [-1, 256, 64, 64]               0\n",
      "  ReflectionPad2d-75          [-1, 256, 66, 66]               0\n",
      "           Conv2d-76          [-1, 256, 64, 64]         590,080\n",
      "   InstanceNorm2d-77          [-1, 256, 64, 64]               0\n",
      "             ReLU-78          [-1, 256, 64, 64]               0\n",
      "  ReflectionPad2d-79          [-1, 256, 66, 66]               0\n",
      "           Conv2d-80          [-1, 256, 64, 64]         590,080\n",
      "   InstanceNorm2d-81          [-1, 256, 64, 64]               0\n",
      "    ResidualBlock-82          [-1, 256, 64, 64]               0\n",
      "  ConvTranspose2d-83        [-1, 128, 128, 128]         295,040\n",
      "   InstanceNorm2d-84        [-1, 128, 128, 128]               0\n",
      "             ReLU-85        [-1, 128, 128, 128]               0\n",
      "  ConvTranspose2d-86         [-1, 64, 256, 256]          73,792\n",
      "   InstanceNorm2d-87         [-1, 64, 256, 256]               0\n",
      "             ReLU-88         [-1, 64, 256, 256]               0\n",
      "  ReflectionPad2d-89         [-1, 64, 262, 262]               0\n",
      "           Conv2d-90          [-1, 3, 256, 256]           9,411\n",
      "             Tanh-91          [-1, 3, 256, 256]               0\n",
      "================================================================\n",
      "Total params: 11,378,179\n",
      "Trainable params: 11,378,179\n",
      "Non-trainable params: 0\n",
      "----------------------------------------------------------------\n",
      "Input size (MB): 0.75\n",
      "Forward/backward pass size (MB): 935.23\n",
      "Params size (MB): 43.40\n",
      "Estimated Total Size (MB): 979.38\n",
      "----------------------------------------------------------------\n"
     ]
    }
   ],
   "source": [
    "def test():\n",
    "    img_channels = 3\n",
    "    img_size = 256\n",
    "    x = torch.randn((2, img_channels, img_size, img_size), device=device)\n",
    "    gen = Generator().to(device)\n",
    "    print(gen(x).shape)\n",
    "    summary(gen, (3, 256, 256))\n",
    "\n",
    "test()"
   ]
  },
  {
   "cell_type": "markdown",
   "metadata": {
    "id": "BcnsAgs8kyCH"
   },
   "source": [
    "## Discriminator"
   ]
  },
  {
   "cell_type": "markdown",
   "metadata": {
    "id": "f3keRjXxlJsj"
   },
   "source": [
    "### Conv block"
   ]
  },
  {
   "cell_type": "code",
   "execution_count": 20,
   "metadata": {
    "id": "0GeVGzc-kwtD"
   },
   "outputs": [],
   "source": [
    "class Block(nn.Module):\n",
    "    def __init__(self, in_channels, out_channels, stride):\n",
    "        super().__init__()\n",
    "        self.conv = nn.Sequential(\n",
    "            # padding_mode=\"reflect\" help to reduce artifact\n",
    "            # kernel size = 4\n",
    "            nn.Conv2d(in_channels, out_channels, 4, stride, 1, bias=True, padding_mode=\"reflect\"),\n",
    "            nn.InstanceNorm2d(out_channels),\n",
    "            nn.LeakyReLU(0.2, inplace=True)\n",
    "        )\n",
    "    def forward(self, x):\n",
    "        return self.conv(x)"
   ]
  },
  {
   "cell_type": "markdown",
   "metadata": {
    "id": "HnmwRI0vlADt"
   },
   "source": [
    "### PatchGAN-based Discriminator "
   ]
  },
  {
   "cell_type": "code",
   "execution_count": 21,
   "metadata": {
    "id": "TYm1RGpCkfyM"
   },
   "outputs": [],
   "source": [
    "class Discriminator(nn.Module):\n",
    "    def __init__(self, in_channels=3, features=[64, 128, 256, 512]):\n",
    "        super().__init__()\n",
    "        self.initial = nn.Sequential(\n",
    "            nn.Conv2d(\n",
    "                in_channels,\n",
    "                features[0],\n",
    "                kernel_size=4, \n",
    "                stride=2, \n",
    "                padding=1,\n",
    "                padding_mode=\"reflect\"\n",
    "                     ),\n",
    "            nn.LeakyReLU(0.2)\n",
    "        )  \n",
    "        \n",
    "        layers = []\n",
    "        in_channels = features[0]\n",
    "        for feature in features[1:]:\n",
    "            layers.append(Block(in_channels, feature, stride=1 if feature==features[-1] else 2))\n",
    "            in_channels = feature\n",
    "        \n",
    "        layers.append(nn.Conv2d(in_channels, 1, kernel_size=4, stride=1, padding=1, padding_mode=\"reflect\"))\n",
    "        self.disc = nn.Sequential(*layers)\n",
    "        \n",
    "    def forward(self, x):\n",
    "        x = self.initial(x)\n",
    "        return torch.sigmoid(self.disc(x))"
   ]
  },
  {
   "cell_type": "code",
   "execution_count": 22,
   "metadata": {
    "colab": {
     "base_uri": "https://localhost:8080/"
    },
    "id": "IN53rWcOlVF5",
    "outputId": "fe55064d-68a4-474d-98fe-82cde9439f10"
   },
   "outputs": [
    {
     "name": "stdout",
     "output_type": "stream",
     "text": [
      "torch.Size([5, 1, 30, 30])\n",
      "----------------------------------------------------------------\n",
      "        Layer (type)               Output Shape         Param #\n",
      "================================================================\n",
      "            Conv2d-1         [-1, 64, 128, 128]           3,136\n",
      "         LeakyReLU-2         [-1, 64, 128, 128]               0\n",
      "            Conv2d-3          [-1, 128, 64, 64]         131,200\n",
      "    InstanceNorm2d-4          [-1, 128, 64, 64]               0\n",
      "         LeakyReLU-5          [-1, 128, 64, 64]               0\n",
      "             Block-6          [-1, 128, 64, 64]               0\n",
      "            Conv2d-7          [-1, 256, 32, 32]         524,544\n",
      "    InstanceNorm2d-8          [-1, 256, 32, 32]               0\n",
      "         LeakyReLU-9          [-1, 256, 32, 32]               0\n",
      "            Block-10          [-1, 256, 32, 32]               0\n",
      "           Conv2d-11          [-1, 512, 31, 31]       2,097,664\n",
      "   InstanceNorm2d-12          [-1, 512, 31, 31]               0\n",
      "        LeakyReLU-13          [-1, 512, 31, 31]               0\n",
      "            Block-14          [-1, 512, 31, 31]               0\n",
      "           Conv2d-15            [-1, 1, 30, 30]           8,193\n",
      "================================================================\n",
      "Total params: 2,764,737\n",
      "Trainable params: 2,764,737\n",
      "Non-trainable params: 0\n",
      "----------------------------------------------------------------\n",
      "Input size (MB): 0.75\n",
      "Forward/backward pass size (MB): 55.02\n",
      "Params size (MB): 10.55\n",
      "Estimated Total Size (MB): 66.32\n",
      "----------------------------------------------------------------\n"
     ]
    }
   ],
   "source": [
    "# Run a test to check if the code of disc is correct\n",
    "def test():\n",
    "    # 5 examples\n",
    "    x = torch.randn((5, 3, 256, 256), device=device)\n",
    "    disc = Discriminator(in_channels=3).to(device)\n",
    "    preds = disc(x)\n",
    "    print(preds.shape)\n",
    "    summary(disc, (3, 256, 256))\n",
    "    \n",
    "test()"
   ]
  },
  {
   "cell_type": "markdown",
   "metadata": {
    "id": "tcp43HZP3S95"
   },
   "source": [
    "## Parameters"
   ]
  },
  {
   "cell_type": "code",
   "execution_count": 23,
   "metadata": {
    "id": "vyUQ7N-J3Kzn"
   },
   "outputs": [],
   "source": [
    "lr = 0.0002\n",
    "lambda_cycle = 10\n",
    "lambda_identity = 0.0\n",
    "num_epochs = 200"
   ]
  },
  {
   "cell_type": "code",
   "execution_count": 24,
   "metadata": {
    "id": "-XKMHWq-mZOl"
   },
   "outputs": [
    {
     "name": "stderr",
     "output_type": "stream",
     "text": [
      "/Users/yousrachahinezhadjazzem/anaconda3/lib/python3.8/site-packages/torch/cuda/amp/grad_scaler.py:115: UserWarning: torch.cuda.amp.GradScaler is enabled, but CUDA is not available.  Disabling.\n",
      "  warnings.warn(\"torch.cuda.amp.GradScaler is enabled, but CUDA is not available.  Disabling.\")\n"
     ]
    }
   ],
   "source": [
    "disc_a = Discriminator(in_channels=3).to(device) # classify calligraphy images\n",
    "disc_b = Discriminator(in_channels=3).to(device) # classify standard font images\n",
    "\n",
    "gen_a = Generator().to(device) # generate calligraphy images\n",
    "gen_b = Generator().to(device)\n",
    "\n",
    "opt_disc = optim.Adam(\n",
    "    list(disc_a.parameters()) + list(disc_b.parameters()),\n",
    "    lr=lr,\n",
    "    betas=(0.5, 0.999),\n",
    "    )\n",
    "\n",
    "opt_gen = optim.Adam(\n",
    "    list(gen_a.parameters()) + list(gen_b.parameters()),\n",
    "    lr=lr,\n",
    "    betas=(0.5, 0.999),\n",
    "    )\n",
    "\n",
    "mse = nn.MSELoss() # adversarial loss\n",
    "L1 = nn.L1Loss() \n",
    "\n",
    "g_scaler = torch.cuda.amp.GradScaler()\n",
    "d_scaler = torch.cuda.amp.GradScaler()"
   ]
  },
  {
   "cell_type": "code",
   "execution_count": 25,
   "metadata": {
    "id": "b8R1kEgQp0-a"
   },
   "outputs": [],
   "source": [
    "# Weights are initialized from a Gaussian distribution N (0, 0.02)\n",
    "def initialize_weights(model):\n",
    "    class_name = model.__class__.__name__\n",
    "    if class_name.find('Conv') != -1:\n",
    "        nn.init.normal_(model.weight.data, 0.0, 0.02)\n",
    "\n",
    "disc_a.apply(initialize_weights);\n",
    "disc_b.apply(initialize_weights);\n",
    "gen_a.apply(initialize_weights);\n",
    "gen_b.apply(initialize_weights);"
   ]
  },
  {
   "cell_type": "markdown",
   "metadata": {
    "id": "1kVItKIeindh"
   },
   "source": [
    "## Save some eaxmples during training"
   ]
  },
  {
   "cell_type": "code",
   "execution_count": null,
   "metadata": {
    "id": "D5-50eC4im2y"
   },
   "outputs": [],
   "source": [
    "def save_some_examples(gen_a, gen_b, val_loader, epoch, folder):\n",
    "  A, B = next(iter(val_loader))\n",
    "  A, B = A.to(device), B.to(device)\n",
    "  gen_a.eval()\n",
    "  gen_b.eval()\n",
    "  with torch.no_grad():\n",
    "    fake_a = gen_a(A) #*******\n",
    "    fake_b = gen_b(B)\n",
    "\n",
    "    #fake std font\n",
    "    fake_a = fake_a * 0.5 + 0.5 # remove normalization\n",
    "    save_image(fake_a, folder + f\"/fake_a_{epoch}.png\")\n",
    "    \n",
    "    #fake calligraphy\n",
    "    fake_b = fake_b * 0.5 + 0.5 # remove normalization\n",
    "    save_image(fake_b, folder + f\"/fake_b_{epoch}.png\")\n",
    "\n",
    "    # real input\n",
    "    save_image(A * 0.5 + 0.5, folder + f\"/input_{epoch}.png\")\n",
    "        \n",
    "    if epoch == 1:\n",
    "      # real cal\n",
    "      save_image(B * 0.5 + 0.5, folder + f\"/label_{epoch}.png\")\n",
    "  gen_a.train()\n",
    "  gen_b.train()"
   ]
  },
  {
   "cell_type": "markdown",
   "metadata": {
    "id": "lCuyvjKh0eG_"
   },
   "source": [
    "## Resume Training"
   ]
  },
  {
   "cell_type": "code",
   "execution_count": null,
   "metadata": {
    "id": "TAeHTLO70dnX"
   },
   "outputs": [],
   "source": [
    "'''\n",
    "checkpoint = torch.load(\".pt\")\n",
    "\n",
    "gen_a.load_state_dict(checkpoint['gen_a_state_dict'])\n",
    "gen_b.load_state_dict(checkpoint['gen_b_state_dict'])\n",
    "disc_a.load_state_dict(checkpoint['disc_a_state_dict'])\n",
    "disc_b.load_state_dict(checkpoint['disc_b_state_dict'])\n",
    "\n",
    "opt_gen.load_state_dict(checkpoint['gen_optim'])\n",
    "opt_disc.load_state_dict(checkpoint['disc_optim'])\n",
    "\n",
    "gen_a.train()\n",
    "gen_b.train()\n",
    "\n",
    "disc_a.train()\n",
    "disc_b.train()\n",
    "'''"
   ]
  },
  {
   "cell_type": "markdown",
   "metadata": {
    "id": "bebWL3YeFq9d"
   },
   "source": [
    "## Training loop"
   ]
  },
  {
   "cell_type": "code",
   "execution_count": null,
   "metadata": {
    "colab": {
     "base_uri": "https://localhost:8080/"
    },
    "id": "wBs4YDgaI3IV",
    "outputId": "6d556241-1ddf-4cd0-d566-777e75097c32"
   },
   "outputs": [
    {
     "name": "stderr",
     "output_type": "stream",
     "text": [
      "100%|██████████| 14608/14608 [1:22:56<00:00,  2.94it/s]\n"
     ]
    },
    {
     "name": "stdout",
     "output_type": "stream",
     "text": [
      "Epoch: 0, G_Loss: 1.684507, D_Loss: 0.007271, time: 82.94 min\n"
     ]
    },
    {
     "name": "stderr",
     "output_type": "stream",
     "text": [
      "100%|██████████| 14608/14608 [1:23:14<00:00,  2.92it/s]\n"
     ]
    },
    {
     "name": "stdout",
     "output_type": "stream",
     "text": [
      "Epoch: 1, G_Loss: 2.076009, D_Loss: 0.000146, time: 166.18 min\n"
     ]
    },
    {
     "name": "stderr",
     "output_type": "stream",
     "text": [
      " 46%|████▌     | 6668/14608 [37:45<44:48,  2.95it/s]"
     ]
    }
   ],
   "source": [
    "since = time.time()   \n",
    "start_time = time.time()\n",
    "\n",
    "for epoch in range(num_epochs):\n",
    "  loop = tqdm(train_loader, leave=True)\n",
    "  \n",
    "  # cal -> calligraphy, stdf -> standard font\n",
    "  for idx, (A, B) in enumerate(loop):\n",
    "    A = A.to(device)\n",
    "    B = B.to(device)\n",
    "\n",
    "    # Train discriminators A and B\n",
    "    with torch.cuda.amp.autocast():\n",
    "      fake_B = gen_a(A)\n",
    "      D_B_fake = disc_b(fake_B.detach())\n",
    "      D_B_real = disc_b(B)\n",
    "      D_B_fake_loss = mse(D_B_fake, torch.zeros_like(D_B_fake))\n",
    "      D_B_real_loss = mse(D_B_real, torch.ones_like(D_B_real))\n",
    "      D_B_loss = D_B_fake_loss + D_B_real_loss \n",
    "\n",
    "      fake_A = gen_b(B)\n",
    "      D_A_fake = disc_a(fake_A.detach())\n",
    "      D_A_real = disc_a(A)\n",
    "      D_A_fake_loss = mse(D_A_fake, torch.zeros_like(D_A_fake))\n",
    "      D_A_real_loss = mse(D_A_real, torch.ones_like(D_A_real))\n",
    "      D_A_loss = D_B_real_loss + D_B_fake_loss\n",
    "\n",
    "      D_loss = (D_A_loss + D_B_loss)/2\n",
    "  \n",
    "    opt_disc.zero_grad()\n",
    "    d_scaler.scale(D_loss).backward()\n",
    "    d_scaler.step(opt_disc)\n",
    "    d_scaler.update()\n",
    "\n",
    "    # train generator G \n",
    "    # A --> B\n",
    "    with torch.cuda.amp.autocast():\n",
    "      D_A_fake = disc_a(fake_A) \n",
    "      D_B_fake = disc_b(fake_B)  \n",
    "      loss_G_A = mse(D_A_fake, torch.ones_like(D_A_fake))\n",
    "      loss_G_B = mse(D_B_fake, torch.ones_like(D_B_fake))\n",
    "\n",
    "      ## Cycle loss\n",
    "      cycle_a = gen_a(fake_A)\n",
    "      cycle_b = gen_b(fake_B)\n",
    "      cycle_a_loss = L1(A, cycle_a)\n",
    "      cycle_b_loss = L1(B, cycle_b)\n",
    "\n",
    "      G_loss = (\n",
    "            loss_G_A  \n",
    "          + loss_G_B \n",
    "          + cycle_a_loss * lambda_cycle\n",
    "          + cycle_b_loss * lambda_cycle\n",
    "          )\n",
    "    opt_gen.zero_grad()\n",
    "    g_scaler.scale(G_loss).backward()\n",
    "    g_scaler.step(opt_gen)\n",
    "    g_scaler.update()\n",
    "\n",
    "  if (epoch + 1) % 5 == 0:\n",
    "    torch.save({\n",
    "        'epoch': epoch,\n",
    "        'gen_a_state_dict': gen_a.state_dict(),\n",
    "        'gen_b_state_dict': gen_b.state_dict(),\n",
    "        'disc_a_state_dict': disc_a.state_dict(),\n",
    "        'disc_b_state_dict': disc_b.state_dict(),\n",
    "        'gen_optim': opt_gen.state_dict(),\n",
    "        'disc_optim': opt_disc.state_dict(),\n",
    "        }, os.path.join(\"\", 'cycleGAN_farisi_epoch-{}.pt'.format(epoch + 1)))\n",
    "    \n",
    "  print('Epoch: %.0f, G_Loss: %.6f, D_Loss: %.6f, time: %.2f min' %(epoch, G_loss.item(), D_loss.item(), (time.time()-start_time)/60))\n",
    "  save_some_examples(gen_a, gen_b, test_loader, epoch, folder=\"/data/evalFarisi\")"
   ]
  },
  {
   "cell_type": "markdown",
   "metadata": {
    "id": "EJYQZ73de1Kx"
   },
   "source": [
    "## Load model for evaluation"
   ]
  },
  {
   "cell_type": "code",
   "execution_count": null,
   "metadata": {
    "id": "6CaUB5HCfUlF"
   },
   "outputs": [],
   "source": [
    "#batch_size = 1\n",
    "#test_loader = DataLoader(test_dataset, batch_size=batch_size, shuffle=True)"
   ]
  },
  {
   "cell_type": "code",
   "execution_count": 73,
   "metadata": {
    "id": "ckkeFA89oOal"
   },
   "outputs": [],
   "source": [
    "checkpoint = torch.load(\".pt\", \n",
    "                       map_location=torch.device('cpu'))\n",
    "\n",
    "gen_a.load_state_dict(checkpoint['gen_a_state_dict'])\n",
    "gen_b.load_state_dict(checkpoint['gen_b_state_dict'])\n",
    "\n",
    "#  set dropout layers to evaluation mode\n",
    "gen_a.eval()\n",
    "gen_b.eval()\n",
    "\n",
    "# create fake image\n",
    "with torch.no_grad():\n",
    "    for a,b in train_loader:\n",
    "        a, b = a.to(device), b.to(device)\n",
    "        fake_img = gen_a(a)\n",
    "        real_img = b\n",
    "        break"
   ]
  },
  {
   "cell_type": "markdown",
   "metadata": {
    "id": "Uc-p0Agee5i3"
   },
   "source": [
    "## Visualize generated images"
   ]
  },
  {
   "cell_type": "code",
   "execution_count": 74,
   "metadata": {
    "colab": {
     "base_uri": "https://localhost:8080/",
     "height": 319
    },
    "id": "N5JXT8PuoOdR",
    "outputId": "b2c06212-d0a6-4acb-de72-ef3d0a6cd1a9"
   },
   "outputs": [
    {
     "data": {
      "text/plain": [
       "(-0.5, 255.5, 255.5, -0.5)"
      ]
     },
     "execution_count": 74,
     "metadata": {},
     "output_type": "execute_result"
    },
    {
     "data": {
      "image/png": "[encoded data removed]",
      "text/plain": [
       "<Figure size 720x720 with 2 Axes>"
      ]
     },
     "metadata": {
      "needs_background": "light"
     },
     "output_type": "display_data"
    }
   ],
   "source": [
    "plt.figure(figsize=(10,10))\n",
    "plt.subplot(1,2,1)\n",
    "plt.imshow(to_pil_image(0.5*np.squeeze(fake_img)+0.5)) # remove normalization\n",
    "plt.title(\"Fake\")\n",
    "plt.axis('off')\n",
    "\n",
    "plt.subplot(1,2,2)\n",
    "plt.imshow(to_pil_image(0.5*np.squeeze(real_img)+0.5)) # remove normalization\n",
    "plt.title(\"Real\")\n",
    "plt.axis('off')"
   ]
  },
  {
   "cell_type": "code",
   "execution_count": 75,
   "metadata": {
    "id": "DisrKpzhoOgP"
   },
   "outputs": [
    {
     "data": {
      "text/plain": [
       "(-0.5, 255.5, 255.5, -0.5)"
      ]
     },
     "execution_count": 75,
     "metadata": {},
     "output_type": "execute_result"
    },
    {
     "data": {
      "image/png": "[encoded data removed]",
      "text/plain": [
       "<Figure size 720x720 with 1 Axes>"
      ]
     },
     "metadata": {
      "needs_background": "light"
     },
     "output_type": "display_data"
    }
   ],
   "source": [
    "plt.figure(figsize=(10,10))\n",
    "\n",
    "plt.subplot(1,2,2)\n",
    "plt.imshow(to_pil_image(0.5*np.squeeze(a)+0.5)) # remove normalization\n",
    "plt.title(\"a\")\n",
    "plt.axis('off')"
   ]
  }
 ],
 "metadata": {
  "accelerator": "GPU",
  "colab": {
   "collapsed_sections": [],
   "machine_shape": "hm",
   "name": "Copy of CycleGAN Model.ipynb",
   "provenance": []
  },
  "kernelspec": {
   "display_name": "Python 3",
   "language": "python",
   "name": "python3"
  },
  "language_info": {
   "codemirror_mode": {
    "name": "ipython",
    "version": 3
   },
   "file_extension": ".py",
   "mimetype": "text/x-python",
   "name": "python",
   "nbconvert_exporter": "python",
   "pygments_lexer": "ipython3",
   "version": "3.8.5"
  }
 },
 "nbformat": 4,
 "nbformat_minor": 1
}
